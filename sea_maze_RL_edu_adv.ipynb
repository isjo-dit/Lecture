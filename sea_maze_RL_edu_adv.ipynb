{
 "cells": [
  {
   "cell_type": "markdown",
   "id": "f242cd3e",
   "metadata": {},
   "source": [
    "### 경로 조건 추가\n",
    "\n",
    "**보너스 위치를 꼭 지나가야 함**\n",
    "\n",
    "**goal_hits.log 를 열고 아래와 같은 경로를 복사한 뒤, 웹에 업로드**\n",
    "\n",
    "**대괄호로만 이루어진 데이터 사용 필수**\n",
    "\n",
    "[[1,1],[2,1],[3,1],[4,1],[5,1],[6,1],[7,1],[7,2],[7,3],[7,4],[7,5],[7,6],[7,7]]"
   ]
  },
  {
   "cell_type": "code",
   "execution_count": 6,
   "id": "7d1b5393",
   "metadata": {},
   "outputs": [
    {
     "data": {
      "image/png": "[encoded data removed]",
      "text/plain": [
       "<Figure size 400x400 with 1 Axes>"
      ]
     },
     "metadata": {},
     "output_type": "display_data"
    }
   ],
   "source": [
    "# 환경 설정\n",
    "SCENARIO = dict(size=50, obstacle_ratio=0.35, view=9, map_seed=2025, fixed_start=(2,2), fixed_goal=(47, 48))\n",
    "\n",
    "bonus_pos = [(35, 24), (25, 32), (3, 31)]\n",
    "# print(bonus_pos)\n",
    "\n",
    "train_env = DummyVecEnv([make_env()])\n",
    "train_env = VecTransposeImage(train_env)       # HWC -> CHW (이제 이미지로 인식됨)\n",
    "train_env = VecNormalize(train_env, norm_obs=False, norm_reward=True)\n",
    "\n",
    "env = train_env.envs[0].unwrapped\n",
    "obs, _ = env.reset(seed=2025)\n",
    "img = env.render()\n",
    "plt.figure(figsize=(4,4)); plt.imshow(img)\n",
    "sy, sx = env.start; gy, gx = env.goal\n",
    "plt.scatter([sx],[sy], marker='o', s=20, c='lime', edgecolors='black', linewidths=0.5)\n",
    "plt.scatter([gx],[gy], marker='*', s=20, c='red',  edgecolors='black', linewidths=0.5)\n",
    "for pos in bonus_pos:\n",
    "    plt.scatter(pos[1], pos[0], marker='s', s=20, c='magenta',  edgecolors='black', linewidths=0.5)\n",
    "plt.axis('off'); plt.title('maze'); plt.show()"
   ]
  }
 ],
 "metadata": {
  "kernelspec": {
   "display_name": "test_ship",
   "language": "python",
   "name": "python3"
  },
  "language_info": {
   "codemirror_mode": {
    "name": "ipython",
    "version": 3
   },
   "file_extension": ".py",
   "mimetype": "text/x-python",
   "name": "python",
   "nbconvert_exporter": "python",
   "pygments_lexer": "ipython3",
   "version": "3.11.13"
  }
 },
 "nbformat": 4,
 "nbformat_minor": 5
}
