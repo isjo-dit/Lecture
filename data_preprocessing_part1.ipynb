{
 "cells": [
  {
   "cell_type": "markdown",
   "id": "8e24858b",
   "metadata": {
    "lines_to_next_cell": 0
   },
   "source": [
    "# 데이터 전처리\n",
    "\n",
    "## 목차\n",
    "1. 결측치 처리\n",
    "2. 이상치 처리\n",
    "3. 수치형 데이터 스케일링\n",
    "4. 범주형 데이터 인코딩\n",
    "5. 차원 축소\n",
    "\n",
    "\n",
    "## 1. 결측치 처리\n",
    "\n",
    "### 개념\n",
    "결측치는 데이터에서 값이 없는 부분입니다. 머신러닝 모델은 결측치를 처리할 수 없으므로 전처리가 필요합니다.\n",
    "\n",
    "### 방법 1: 제거"
   ]
  },
  {
   "cell_type": "code",
   "execution_count": null,
   "id": "d382d630",
   "metadata": {},
   "outputs": [
    {
     "name": "stdout",
     "output_type": "stream",
     "text": [
      "A    1\n",
      "B    1\n",
      "C    0\n",
      "dtype: int64\n"
     ]
    }
   ],
   "source": [
    "import pandas as pd\n",
    "import numpy as np\n",
    "\n",
    "# 데이터 생성\n",
    "df = pd.DataFrame({\n",
    "    'A': [1, 2, np.nan, 4],\n",
    "    'B': [5, np.nan, 7, 8],\n",
    "    'C': ['a', 'b', np.nan, 'a']\n",
    "})\n",
    "\n",
    "# 결측치 확인\n",
    "print(df.isna().sum())\n",
    "\n",
    "# 행 삭제\n",
    "df_drop_rows = df.dropna()  # 결측치가 있는 행 제거\n",
    "df_drop_cols = df.dropna(axis=1)  # 결측치가 있는 열 제거"
   ]
  },
  {
   "cell_type": "markdown",
   "id": "60679d30",
   "metadata": {
    "lines_to_next_cell": 0
   },
   "source": [
    "### 방법 2: 대체"
   ]
  },
  {
   "cell_type": "code",
   "execution_count": null,
   "id": "4d42ad3f",
   "metadata": {},
   "outputs": [],
   "source": [
    "df = pd.DataFrame({\n",
    "    'A': [1, 2, np.nan, 4],\n",
    "    'B': [5, np.nan, 7, 8],\n",
    "    'C': ['a', 'b', np.nan, 'a']\n",
    "})\n",
    "\n",
    "# 평균값으로 대체\n",
    "df['A'] = df['A'].fillna(df['A'].mean())\n",
    "\n",
    "# 중앙값으로 대체\n",
    "df['B'] = df['B'].fillna(df['B'].median())\n",
    "\n",
    "# 최빈값으로 대체 (범주형)\n",
    "df['C'] = df['C'].fillna(df['C'].mode()[0])"
   ]
  },
  {
   "cell_type": "markdown",
   "id": "6bfa3f4c",
   "metadata": {
    "lines_to_next_cell": 0
   },
   "source": [
    "### 방법 3: sklearn imputer\n",
    "\n",
    "결측값(NaN) 을 다루기 위한 사이킷런(sklearn) 모듈"
   ]
  },
  {
   "cell_type": "code",
   "execution_count": 9,
   "id": "1de7b803",
   "metadata": {},
   "outputs": [
    {
     "name": "stdout",
     "output_type": "stream",
     "text": [
      "[[1.         5.        ]\n",
      " [2.         6.66666667]\n",
      " [2.33333333 7.        ]\n",
      " [4.         8.        ]]\n",
      "[[1.  5. ]\n",
      " [2.  6.5]\n",
      " [2.5 7. ]\n",
      " [4.  8. ]]\n"
     ]
    }
   ],
   "source": [
    "from sklearn.impute import SimpleImputer, KNNImputer\n",
    "\n",
    "df = pd.DataFrame({\n",
    "    'A': [1, 2, np.nan, 4],\n",
    "    'B': [5, np.nan, 7, 8],\n",
    "    'C': ['a', 'b', np.nan, 'a']\n",
    "})\n",
    "\n",
    "# Simple Imputer\n",
    "imputer = SimpleImputer(strategy='mean')  # 'median': 중앙값, 'most_frequent': 최빈값\n",
    "df_filled = imputer.fit_transform(df[['A', 'B']])\n",
    "print(df_filled)\n",
    "\n",
    "# KNN Imputer (고급)\n",
    "knn_imputer = KNNImputer(n_neighbors=3)\n",
    "df_knn = knn_imputer.fit_transform(df[['A', 'B']])\n",
    "print(df_knn)"
   ]
  },
  {
   "cell_type": "markdown",
   "id": "b9485907",
   "metadata": {
    "lines_to_next_cell": 0
   },
   "source": [
    "---\n",
    "\n",
    "## 2. 이상치(Outlier) 처리\n",
    "\n",
    "### 방법 1: IQR 방법"
   ]
  },
  {
   "cell_type": "code",
   "execution_count": 22,
   "id": "e43e6795",
   "metadata": {},
   "outputs": [
    {
     "name": "stdout",
     "output_type": "stream",
     "text": [
      "이상치: [ 22.92433724 -50.         150.         200.        ]\n"
     ]
    }
   ],
   "source": [
    "import matplotlib.pyplot as plt\n",
    "\n",
    "# 데이터 생성\n",
    "data = np.random.normal(loc=50, scale=10, size=100)\n",
    "data = np.append(data, [-50, 150, 200])  # 이상치 추가\n",
    "\n",
    "# IQR 계산\n",
    "Q1 = np.percentile(data, 25)\n",
    "Q3 = np.percentile(data, 75)\n",
    "IQR = Q3 - Q1\n",
    "\n",
    "# 이상치 경계\n",
    "lower_bound = Q1 - 1.5 * IQR\n",
    "upper_bound = Q3 + 1.5 * IQR\n",
    "\n",
    "# 이상치 탐지\n",
    "outliers = data[(data < lower_bound) | (data > upper_bound)]\n",
    "print(f\"이상치: {outliers}\")\n",
    "\n",
    "# 이상치 제거\n",
    "data_clean = data[(data >= lower_bound) & (data <= upper_bound)]"
   ]
  },
  {
   "cell_type": "markdown",
   "id": "5223093e",
   "metadata": {
    "lines_to_next_cell": 0
   },
   "source": [
    "### 방법 2: Z-Score 방법\n",
    "\n",
    "Z-score: 데이터 값이 평균에서 몇 개의 표준편차만큼 떨어져 있는지를 나타내는 지표\n",
    "\n",
    "$z = \\frac{x-\\mu}{\\sigma}$"
   ]
  },
  {
   "cell_type": "code",
   "execution_count": 17,
   "id": "6d7261a7",
   "metadata": {},
   "outputs": [
    {
     "name": "stdout",
     "output_type": "stream",
     "text": [
      "Z-Score 이상치: [150. 200.]\n"
     ]
    }
   ],
   "source": [
    "from scipy import stats\n",
    "\n",
    "mean = np.mean(data)\n",
    "std = np.std(data, ddof=1) # 표본표준편차\n",
    "\n",
    "# Z-Score 계산\n",
    "z_scores = (data - mean) / std\n",
    "\n",
    "# 임계값 3 이상을 이상치로 판단\n",
    "threshold = 3\n",
    "outliers_z = data[(z_scores > threshold) | (z_scores < -threshold)]\n",
    "print(f\"Z-Score 이상치: {outliers_z}\")\n",
    "\n",
    "# 이상치 제거\n",
    "data_clean_z = data[z_scores <= threshold]"
   ]
  },
  {
   "cell_type": "markdown",
   "id": "a250c1bd",
   "metadata": {
    "lines_to_next_cell": 0
   },
   "source": [
    "### 방법 3: 도메인 지식 기반"
   ]
  },
  {
   "cell_type": "code",
   "execution_count": null,
   "id": "de15a5a0",
   "metadata": {},
   "outputs": [],
   "source": [
    "# 예: 나이 데이터의 경우\n",
    "ages = [25, 30, 35, 200, 28, -5, 40]  # 비현실적인 값들\n",
    "\n",
    "# 도메인 지식으로 이상치 탐지\n",
    "valid_ages = [age for age in ages if 0 <= age <= 120]\n",
    "print(f\"유효한 나이: {valid_ages}\")"
   ]
  },
  {
   "cell_type": "markdown",
   "id": "fde14560",
   "metadata": {
    "lines_to_next_cell": 0
   },
   "source": [
    "---\n",
    "\n",
    "## 3. 수치형 데이터 스케일링\n",
    "\n",
    "### 정규화 (Min-Max Scaling)\n",
    "\n",
    "$x' = \\frac{x-x_{min}}{x_{max}-x_{min}}$"
   ]
  },
  {
   "cell_type": "code",
   "execution_count": null,
   "id": "252d8c76",
   "metadata": {},
   "outputs": [
    {
     "name": "stdout",
     "output_type": "stream",
     "text": [
      "   value  value_scaled\n",
      "0      1           0.0\n",
      "1      2           0.2\n",
      "2      3           0.4\n",
      "3      4           0.6\n",
      "4      5           0.8\n",
      "5      6           1.0\n"
     ]
    }
   ],
   "source": [
    "from sklearn.preprocessing import MinMaxScaler\n",
    "\n",
    "# 데이터프레임 생성\n",
    "df = pd.DataFrame({\"value\": [1, 2, 3, 4, 5, 6]})\n",
    "\n",
    "# Min-Max 스케일링\n",
    "scaler = MinMaxScaler()\n",
    "df[\"value_scaled\"] = scaler.fit_transform(df[[\"value\"]])\n",
    "print(df)\n",
    "\n",
    "# 수동 계산\n",
    "# (값 - 최솟값) / (최댓값 - 최솟값)"
   ]
  },
  {
   "cell_type": "markdown",
   "id": "b7df51fa",
   "metadata": {
    "lines_to_next_cell": 0
   },
   "source": [
    "### 표준화 (Standardization)\n",
    "\n",
    "$z = \\frac{x-\\mu}{\\sigma}$"
   ]
  },
  {
   "cell_type": "code",
   "execution_count": 33,
   "id": "ed70dede",
   "metadata": {},
   "outputs": [
    {
     "name": "stdout",
     "output_type": "stream",
     "text": [
      "   value  value_scaled\n",
      "0      1      -1.46385\n",
      "1      2      -0.87831\n",
      "2      3      -0.29277\n",
      "3      4       0.29277\n",
      "4      5       0.87831\n",
      "5      6       1.46385\n"
     ]
    }
   ],
   "source": [
    "from sklearn.preprocessing import StandardScaler\n",
    "\n",
    "# 데이터프레임 생성\n",
    "df = pd.DataFrame({\"value\": [1, 2, 3, 4, 5, 6]})\n",
    "\n",
    "# 표준화 (평균=0, 표준편차=1)\n",
    "scaler = StandardScaler()\n",
    "df[\"value_scaled\"] = scaler.fit_transform(df[[\"value\"]])\n",
    "print(df)\n",
    "\n",
    "# 수동 계산\n",
    "# (값 - 평균) / 표준편차"
   ]
  },
  {
   "cell_type": "markdown",
   "id": "52b2cc5b",
   "metadata": {
    "lines_to_next_cell": 0
   },
   "source": [
    "- **정규화**: 데이터가 균등분포, 특정 범위 필요시\n",
    "- **표준화**: 데이터가 정규분포, 이상치에 덜 민감\n",
    "\n",
    "---\n",
    "\n",
    "## 4. 범주형 데이터 인코딩\n",
    "\n",
    "### Label Encoding\n",
    "\n",
    "범주형 값을 사전식(알파벳/문자열) 오름차순으로 정렬한 뒤, 0부터 차례대로 번호 추가"
   ]
  },
  {
   "cell_type": "code",
   "execution_count": null,
   "id": "776d8fac",
   "metadata": {},
   "outputs": [
    {
     "name": "stdout",
     "output_type": "stream",
     "text": [
      "Label Encoding: [0 3 1 2 4 1 0]\n"
     ]
    }
   ],
   "source": [
    "from sklearn.preprocessing import LabelEncoder\n",
    "\n",
    "# 데이터프레임 생성\n",
    "df = pd.DataFrame({'grade': ['A', 'D', 'B', 'C', 'F', 'B', 'A']})\n",
    "\n",
    "# Label Encoding\n",
    "encoder = LabelEncoder()\n",
    "education_encoded = encoder.fit_transform(df['grade'])\n",
    "print(f'Label Encoding: {education_encoded}')"
   ]
  },
  {
   "cell_type": "markdown",
   "id": "9d786b33",
   "metadata": {
    "lines_to_next_cell": 0
   },
   "source": [
    "### One-Hot Encoding"
   ]
  },
  {
   "cell_type": "code",
   "execution_count": 46,
   "id": "1e759346",
   "metadata": {},
   "outputs": [
    {
     "name": "stdout",
     "output_type": "stream",
     "text": [
      "One-Hot Encoding: \n",
      "    color_green  color_red\n",
      "0          0.0        1.0\n",
      "1          0.0        0.0\n",
      "2          1.0        0.0\n",
      "3          0.0        1.0\n"
     ]
    }
   ],
   "source": [
    "from sklearn.preprocessing import OneHotEncoder\n",
    "import pandas as pd\n",
    "\n",
    "# 순서가 없는 범주형 데이터\n",
    "colors_df = pd.DataFrame({'color': ['red', 'blue', 'green', 'red']})\n",
    "\n",
    "# sklearn 방법\n",
    "encoder = OneHotEncoder(drop='first', sparse_output=False)\n",
    "colors_encoded = encoder.fit_transform(colors_df)\n",
    "colors_encoded_df = pd.DataFrame(colors_encoded, columns=encoder.get_feature_names_out())\n",
    "print(f'One-Hot Encoding: \\n {colors_encoded_df}')"
   ]
  },
  {
   "cell_type": "markdown",
   "id": "df3e3df2",
   "metadata": {
    "lines_to_next_cell": 0
   },
   "source": [
    "## 5. 피처 선택 (Feature Selection)\n",
    "\n",
    "데이터에 여러 변수(피처)가 존재할 때, 중요한 변수만 뽑아내는 과정\n",
    "\n",
    "### SelectKBest\n",
    "타깃과 가장 관련성이 높은 상위 K개의 피처를 자동으로 선택해주는 방법\n",
    "\n",
    "각 변수와 타겟간의 관계를 통계적 방법(점수 함수)로 판단하여 상위 K개만 남긴다."
   ]
  },
  {
   "cell_type": "code",
   "execution_count": null,
   "id": "ca2cfe05",
   "metadata": {},
   "outputs": [
    {
     "name": "stdout",
     "output_type": "stream",
     "text": [
      "원래 데이터 shape: (150, 4)\n",
      "선택된 데이터 shape: (150, 2)\n",
      "선택된 피처 인덱스: [False False  True  True]\n"
     ]
    },
    {
     "data": {
      "image/png": "[encoded data removed]",
      "text/plain": [
       "<Figure size 640x480 with 1 Axes>"
      ]
     },
     "metadata": {},
     "output_type": "display_data"
    }
   ],
   "source": [
    "import pandas as pd\n",
    "import seaborn as sns\n",
    "import matplotlib.pyplot as plt\n",
    "from sklearn.feature_selection import SelectKBest, f_classif\n",
    "\n",
    "df = sns.load_dataset('iris')\n",
    "X = df.drop('species', axis=1)\n",
    "y = df['species']\n",
    "\n",
    "# SelectKBest: 상위 2개 피처 선택\n",
    "selector = SelectKBest(score_func=f_classif, k=2)\n",
    "X_kbest = selector.fit_transform(X, y)\n",
    "\n",
    "print(\"원래 데이터 shape:\", X.shape)   # (150, 4)\n",
    "print(\"선택된 데이터 shape:\", X_kbest.shape)  # (150, 2)\n",
    "\n",
    "# 어떤 피처가 선택됐는지 확인\n",
    "mask = selector.get_support()\n",
    "print(\"선택된 피처 인덱스:\", mask)\n",
    "\n",
    "X_kbest = pd.DataFrame(X_kbest, columns=X.columns[mask])\n",
    "\n",
    "# 시각화\n",
    "plt.scatter(X_kbest.iloc[:, 0], X_kbest.iloc[:, 1])\n",
    "plt.xlabel(X_kbest.columns[0])\n",
    "plt.ylabel(X_kbest.columns[1])\n",
    "plt.title('SelectKBest result')\n",
    "plt.show()"
   ]
  },
  {
   "cell_type": "markdown",
   "id": "aa9a23c6",
   "metadata": {},
   "source": [
    "### PCA (주성분 분석)\n",
    "\n",
    "데이터에 있는 여러 변수들을 새롭게 조합해서, 데이터의 정보는 최대한 보존하면서 차원 수를 줄여주는 방법\n",
    "\n",
    "1. 원래 변수들을 선형 결합해서 **새로운 축(주성분, Principal Component)**을 만든다.\n",
    "\n",
    "2. 이때, 데이터 분산(정보량)이 가장 큰 방향을 첫 번째 주성분으로 잡는다.\n",
    "\n",
    "3. 두 번째 주성분은 첫 번째와 직교(90도)하면서, 남은 분산을 최대한 설명하는 방향으로 잡는다.\n",
    "\n",
    "4. 이런 식으로 여러 개의 주성분을 찾고, 원하는 개수(K개)의 주성분만 남겨서 데이터를 축소한다."
   ]
  },
  {
   "cell_type": "code",
   "execution_count": null,
   "id": "30bf93a8",
   "metadata": {},
   "outputs": [
    {
     "name": "stdout",
     "output_type": "stream",
     "text": [
      "원래 shape: (150, 4)\n",
      "PCA shape: (150, 2)\n",
      "설명 분산 비율: [0.92461872 0.05306648]\n",
      "누적 설명 분산: 0.978\n",
      "pca.components_: \n",
      " [[ 0.36138659 -0.08452251  0.85667061  0.3582892 ]\n",
      " [ 0.65658877  0.73016143 -0.17337266 -0.07548102]]\n"
     ]
    },
    {
     "data": {
      "image/png": "[encoded data removed]",
      "text/plain": [
       "<Figure size 640x480 with 1 Axes>"
      ]
     },
     "metadata": {},
     "output_type": "display_data"
    }
   ],
   "source": [
    "from sklearn.decomposition import PCA\n",
    "import matplotlib.pyplot as plt\n",
    "import seaborn as sns\n",
    "df = sns.load_dataset('iris')\n",
    "X = df.drop('species', axis=1)\n",
    "\n",
    "# PCA 적용\n",
    "pca = PCA(n_components=2)  # 2차원으로 축소\n",
    "X_pca = pca.fit_transform(X)\n",
    "\n",
    "print(\"원래 shape:\", X.shape)   # (150, 4)\n",
    "print(\"PCA shape:\", X_pca.shape)  # (150, 2)\n",
    "\n",
    "# 설명 분산 비율\n",
    "print(f\"설명 분산 비율: {pca.explained_variance_ratio_}\")\n",
    "print(f\"누적 설명 분산: {pca.explained_variance_ratio_.sum():.3f}\")\n",
    "\n",
    "# 주성분 벡터\n",
    "print(f'pca.components_: \\n {pca.components_}')\n",
    "# PC1 = 0.361 × (특징1) − 0.085 × (특징2) + 0.857 × (특징3) + 0.358 × (특징4)\n",
    "# PC2 = 0.657 × (특징1) + 0.730 × (특징2) − 0.173 × (특징3) − 0.075 × (특징4)\n",
    "\n",
    "# 시각화\n",
    "plt.scatter(X_pca[:, 0], X_pca[:, 1])\n",
    "plt.xlabel('PC1')\n",
    "plt.ylabel('PC2')\n",
    "plt.title('PCA result')\n",
    "plt.show()"
   ]
  },
  {
   "cell_type": "markdown",
   "id": "0b7fa9e5",
   "metadata": {
    "lines_to_next_cell": 0
   },
   "source": [
    "### 적절한 차원 수 선택"
   ]
  },
  {
   "cell_type": "code",
   "execution_count": 53,
   "id": "35670492",
   "metadata": {},
   "outputs": [
    {
     "name": "stdout",
     "output_type": "stream",
     "text": [
      "95% 분산 설명 차원 수: 2\n"
     ]
    }
   ],
   "source": [
    "# 설명 분산 비율로 차원 수 결정\n",
    "pca_full = PCA()\n",
    "pca_full.fit(X)\n",
    "\n",
    "# 95% 분산을 설명하는 차원 수 찾기\n",
    "cumsum = np.cumsum(pca_full.explained_variance_ratio_)\n",
    "n_components = np.argmax(cumsum >= 0.95) + 1\n",
    "print(f\"95% 분산 설명 차원 수: {n_components}\")"
   ]
  }
 ],
 "metadata": {
  "jupytext": {
   "cell_metadata_filter": "-all",
   "main_language": "python",
   "notebook_metadata_filter": "-all"
  },
  "kernelspec": {
   "display_name": "test",
   "language": "python",
   "name": "python3"
  },
  "language_info": {
   "codemirror_mode": {
    "name": "ipython",
    "version": 3
   },
   "file_extension": ".py",
   "mimetype": "text/x-python",
   "name": "python",
   "nbconvert_exporter": "python",
   "pygments_lexer": "ipython3",
   "version": "3.11.13"
  }
 },
 "nbformat": 4,
 "nbformat_minor": 5
}
