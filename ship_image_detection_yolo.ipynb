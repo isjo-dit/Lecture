{
  "cells": [
    {
      "cell_type": "code",
      "execution_count": null,
      "metadata": {
        "colab": {
          "base_uri": "https://localhost:8080/"
        },
        "id": "OIKJWEYB0afY",
        "outputId": "898a6f3c-3e7d-44d2-9a02-d933ff4321a1"
      },
      "outputs": [],
      "source": [
        "# !pip install -U ultralytics\n",
        "\n",
        "import os, shutil, glob\n",
        "import kagglehub\n",
        "from pathlib import Path\n",
        "\n",
        "# Ships Dataset 다운로드\n",
        "ds_path = kagglehub.dataset_download(\"vinayakshanawad/ships-dataset\")\n",
        "target_dir = os.path.join(os.getcwd(), \"ships-dataset\")  # /content/ships-dataset\n",
        "\n",
        "if os.path.exists(target_dir):\n",
        "    shutil.rmtree(target_dir)  # 기존 있으면 삭제\n",
        "shutil.copytree(ds_path+'/Ships dataset/', target_dir)\n",
        "\n",
        "print(\"Copied to:\", target_dir)\n"
      ]
    },
    {
      "cell_type": "code",
      "execution_count": null,
      "metadata": {
        "colab": {
          "base_uri": "https://localhost:8080/"
        },
        "id": "boo1cjb-60CD",
        "outputId": "82222265-6595-46dc-c49e-568604304e18"
      },
      "outputs": [],
      "source": [
        "# 모델 크기: yolo11n/s/m/l/x 중 선택. GPU 메모리 따라 조정.\n",
        "from ultralytics import YOLO\n",
        "\n",
        "# 학습\n",
        "model = YOLO(\"yolo11n.pt\")   # 모델 불러오기\n",
        "model.train(data=\"./ships-dataset/data.yaml\", epochs=10, imgsz=640, batch=16, fraction=0.3)"
      ]
    },
    {
      "cell_type": "code",
      "execution_count": null,
      "metadata": {
        "id": "GnrqcjvG7F5a"
      },
      "outputs": [],
      "source": [
        "# 검증\n",
        "model.val(split=\"val\")\n",
        "\n",
        "# 테스트\n",
        "results = model.predict(source=\"./ships-dataset/test/images/\", save=True)"
      ]
    }
  ],
  "metadata": {
    "colab": {
      "provenance": []
    },
    "kernelspec": {
      "display_name": "torch",
      "language": "python",
      "name": "python3"
    },
    "language_info": {
      "codemirror_mode": {
        "name": "ipython",
        "version": 3
      },
      "file_extension": ".py",
      "mimetype": "text/x-python",
      "name": "python",
      "nbconvert_exporter": "python",
      "pygments_lexer": "ipython3",
      "version": "3.11.11"
    }
  },
  "nbformat": 4,
  "nbformat_minor": 0
}
