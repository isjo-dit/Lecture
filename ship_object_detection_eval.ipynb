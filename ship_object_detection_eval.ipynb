{
 "cells": [
  {
   "cell_type": "code",
   "execution_count": null,
   "id": "1caca77f",
   "metadata": {},
   "outputs": [],
   "source": [
    "# --- 5. 평가 ---\n",
    "np.random.seed(2025)\n",
    "idx = np.random.randint(0, len(X_test), size=100)\n",
    "print(idx)\n",
    "\n",
    "X_test2 = X_test[idx]\n",
    "file_test2 = [file_test[i] for i in idx]\n",
    "y_test_cat2 = y_test_cat[idx]\n",
    "y_test_enc2 = y_test_enc[idx]\n",
    "\n",
    "test_loss, test_acc = model.evaluate(X_test2, y_test_cat2, verbose=2)\n",
    "print(f\"Test loss: {test_loss:.4f}, Test accuracy: {test_acc:.4f}\")\n",
    "\n",
    "# --- 6. 예측 결과 확인 (옵션) ---\n",
    "y_pred_prob = model.predict(X_test2)\n",
    "y_pred = np.argmax(y_pred_prob, axis=1)\n",
    "\n",
    "# 예시: 처음 10개 비교\n",
    "for i in range(10):\n",
    "    print(f\"파일: {file_test2[i]}\")\n",
    "    print(f\"  실제: {le.classes_[y_test_enc2[i]]}, 예측: {le.classes_[y_pred[i]]}\")\n"
   ]
  }
 ],
 "metadata": {
  "language_info": {
   "name": "python"
  }
 },
 "nbformat": 4,
 "nbformat_minor": 5
}
